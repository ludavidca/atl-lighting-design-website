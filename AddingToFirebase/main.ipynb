{
 "cells": [
  {
   "cell_type": "code",
   "execution_count": 1,
   "metadata": {},
   "outputs": [],
   "source": [
    "import os\n",
    "import firebase_admin\n",
    "from firebase_admin import credentials, db, storage\n",
    "from datetime import datetime\n",
    "\n",
    "# Initialize Firebase app (you'll need to replace 'path/to/serviceAccountKey.json' with your actual service account key file)\n",
    "cred = credentials.Certificate('C:/Users/david/Desktop/Important docs/atllightingdesign-firebase-adminsdk-nkqyi-10da279d19.json')\n",
    "firebase_admin.initialize_app(cred, {\n",
    "    'databaseURL': 'https://atllightingdesign-default-rtdb.firebaseio.com/',\n",
    "    'storageBucket': 'atllightingdesign.appspot.com'\n",
    "})\n",
    "\n",
    "categories= ['arts-and-culture','city-and-landscape', 'commercial', 'hospitality']\n"
   ]
  },
  {
   "cell_type": "code",
   "execution_count": 22,
   "metadata": {},
   "outputs": [],
   "source": [
    "def upload_image_to_storage(title):\n",
    "    bucket = storage.bucket()\n",
    "    image_urls = \"\"\n",
    "    image_paths = []\n",
    "    \n",
    "    for i, filename in enumerate(os.listdir(\"C:/Users/david/Desktop/Ongoing Projects/atlwebsite/AddingToFirebase/ProjectImages\")):\n",
    "        if filename.lower().endswith(('.png', '.jpg', '.jpeg', '.gif')):\n",
    "            file_path = os.path.join(\"ProjectImages\", filename)\n",
    "            new_filename = f\"{title.lower().replace(' ', '-')}-{i+1}{os.path.splitext(filename)[1]}\"\n",
    "            blob = bucket.blob(f\"awards/{new_filename}\")\n",
    "            blob.upload_from_filename(file_path)\n",
    "            blob.make_public()\n",
    "            image_urls = blob.public_url\n",
    "            image_paths.append(file_path)\n",
    "    \n",
    "    return image_urls, image_paths\n",
    "\n",
    "def upload_images_to_storage(title):\n",
    "    bucket = storage.bucket()\n",
    "    image_urls = []\n",
    "    image_paths = []\n",
    "    \n",
    "    for i, filename in enumerate(os.listdir(\"C:/Users/david/Desktop/Ongoing Projects/atlwebsite/AddingToFirebase/ProjectImages\")):\n",
    "        if filename.lower().endswith(('.png', '.jpg', '.jpeg', '.gif')):\n",
    "            file_path = os.path.join(\"ProjectImages\", filename)\n",
    "            new_filename = f\"{title.lower().replace(' ', '-')}-{i+1}{os.path.splitext(filename)[1]}\"\n",
    "            blob = bucket.blob(f\"projects/{new_filename}\")\n",
    "            blob.upload_from_filename(file_path)\n",
    "            blob.make_public()\n",
    "            image_urls.append(blob.public_url)\n",
    "            image_paths.append(file_path)\n",
    "    \n",
    "    return image_urls, image_paths\n",
    "\n",
    "def insert_project_to_database(category, title, image_urls, time, location, description):\n",
    "    ref = db.reference('projects')\n",
    "    project_data = {\n",
    "        \"images\": image_urls,\n",
    "        \"time\": time,\n",
    "        \"location\": location,\n",
    "        \"description\": description\n",
    "    }\n",
    "    ref.child(category).child(title.lower().replace(' ', '-')).set(project_data)\n",
    "\n",
    "\n",
    "def insert_award_to_database(title, awards, category, image):\n",
    "    ref = db.reference('awards')\n",
    "    project_data = {\n",
    "        \"awards\": awards,\n",
    "        \"image\": image\n",
    "    }\n",
    "    ref.child(title.lower().replace(' ', '-')).set(project_data)\n",
    "\n",
    "def insert_news_to_database(title, date, images, article):\n",
    "    ref = db.reference('news')\n",
    "    project_data = {\n",
    "        \"date\": date,\n",
    "        \"image\": images,\n",
    "        \"article\": article\n",
    "    }\n",
    "    ref.child(title.lower().replace(' ', '-')).set(project_data)\n",
    "\n",
    "\n",
    "def delete_local_images(image_paths):\n",
    "    for path in image_paths:\n",
    "        try:\n",
    "            os.remove(path)\n",
    "            print(f\"Deleted: {path}\")\n",
    "        except Exception as e:\n",
    "            print(f\"Error deleting {path}: {str(e)}\")\n",
    "\n",
    "            \n",
    "\n"
   ]
  },
  {
   "cell_type": "code",
   "execution_count": null,
   "metadata": {},
   "outputs": [],
   "source": [
    "def get_project_input():\n",
    "    title = \"Guanyin Altar\"\n",
    "    time = 2024\n",
    "    location = \"ZhouShan City, China\"\n",
    "    category = categories[0]\n",
    "    description = open(\"description.txt\", \"r\", encoding=\"utf8\").read()\n",
    "    \n",
    "    return title, time, category, location, description\n",
    "\n",
    "title, time, category, location, description = get_project_input()\n",
    "image_urls, image_paths = upload_images_to_storage(title)\n",
    "insert_project_to_database(category, title, image_urls, time, location, description)\n",
    "delete_local_images(image_paths)\n",
    "print(\"Project uploaded successfully and local images deleted!\")"
   ]
  },
  {
   "cell_type": "code",
   "execution_count": null,
   "metadata": {},
   "outputs": [],
   "source": [
    "def get_award_input():\n",
    "    title = \"Lingshan Buddhist Palace\"\n",
    "    awards= [\"1st Prize of Indoor Lighting Design- CIES 2009\"]\n",
    "    category = categories[1]\n",
    "    lowercasetitle= title.replace(\" \",\"-\").lower()\n",
    "    image= f\"/{category}/{lowercasetitle}\"\n",
    "\n",
    "    return title, awards, category, image\n",
    "\n",
    "title, awards, category, image = get_award_input()\n",
    "image_urls, image_paths = upload_images_to_storage(title)\n",
    "insert_award_to_database(title, awards, category, image_urls)\n",
    "delete_local_images(image_paths)\n",
    "print(\"Award uploaded successfully and local images deleted!\")"
   ]
  },
  {
   "cell_type": "code",
   "execution_count": 23,
   "metadata": {},
   "outputs": [
    {
     "name": "stdout",
     "output_type": "stream",
     "text": [
      "Project uploaded successfully and local images deleted!\n"
     ]
    }
   ],
   "source": [
    "import json\n",
    "\n",
    "def get_news_input():\n",
    "    title = \"2022 darc Awards Shortlist\"\n",
    "    date_string = \"Feb 10th, 2023\"\n",
    "    date_string = date_string.replace(\"th\", \"\")\n",
    "    date_obj = datetime.strptime(date_string, \"%b %d, %Y\")\n",
    "    dt_str = date_obj.strftime(\"%Y-%m-%d %H:%M:%S\") \n",
    "    json_data = json.dumps(dt_str) \n",
    "\n",
    "    article = open(\"description.txt\", \"r\", encoding=\"utf8\").read()\n",
    "    \n",
    "    return title, json_data, article\n",
    "\n",
    "title, date_obj, article = get_news_input()\n",
    "image_urls, image_paths = upload_images_to_storage(title)\n",
    "insert_news_to_database( title, image_urls, date_obj, article)\n",
    "delete_local_images(image_paths)\n",
    "print(\"Project uploaded successfully and local images deleted!\")"
   ]
  },
  {
   "cell_type": "code",
   "execution_count": null,
   "metadata": {},
   "outputs": [
    {
     "ename": "ValueError",
     "evalue": "Invalid path: \"https://console.firebase.google.com/u/0/project/atllightingdesign/database/atllightingdesign-default-rtdb/data/~2F/\". Path contains illegal characters.",
     "output_type": "error",
     "traceback": [
      "\u001b[1;31m---------------------------------------------------------------------------\u001b[0m",
      "\u001b[1;31mValueError\u001b[0m                                Traceback (most recent call last)",
      "Cell \u001b[1;32mIn[28], line 1\u001b[0m\n\u001b[1;32m----> 1\u001b[0m ref \u001b[38;5;241m=\u001b[39m \u001b[43mdb\u001b[49m\u001b[38;5;241;43m.\u001b[39;49m\u001b[43mreference\u001b[49m\u001b[43m(\u001b[49m\u001b[38;5;124;43m\"\u001b[39;49m\u001b[38;5;124;43mhttps://console.firebase.google.com/u/0/project/atllightingdesign/database/atllightingdesign-default-rtdb/data/~2F/\u001b[39;49m\u001b[38;5;124;43m\"\u001b[39;49m\u001b[43m)\u001b[49m\n\u001b[0;32m      2\u001b[0m data \u001b[38;5;241m=\u001b[39m ref\u001b[38;5;241m.\u001b[39mget()\n\u001b[0;32m      4\u001b[0m \u001b[38;5;28mprint\u001b[39m(data)\n",
      "File \u001b[1;32m~\\AppData\\Local\\Packages\\PythonSoftwareFoundation.Python.3.12_qbz5n2kfra8p0\\LocalCache\\local-packages\\Python312\\site-packages\\firebase_admin\\db.py:70\u001b[0m, in \u001b[0;36mreference\u001b[1;34m(path, app, url)\u001b[0m\n\u001b[0;32m     68\u001b[0m service \u001b[38;5;241m=\u001b[39m _utils\u001b[38;5;241m.\u001b[39mget_app_service(app, _DB_ATTRIBUTE, _DatabaseService)\n\u001b[0;32m     69\u001b[0m client \u001b[38;5;241m=\u001b[39m service\u001b[38;5;241m.\u001b[39mget_client(url)\n\u001b[1;32m---> 70\u001b[0m \u001b[38;5;28;01mreturn\u001b[39;00m \u001b[43mReference\u001b[49m\u001b[43m(\u001b[49m\u001b[43mclient\u001b[49m\u001b[38;5;241;43m=\u001b[39;49m\u001b[43mclient\u001b[49m\u001b[43m,\u001b[49m\u001b[43m \u001b[49m\u001b[43mpath\u001b[49m\u001b[38;5;241;43m=\u001b[39;49m\u001b[43mpath\u001b[49m\u001b[43m)\u001b[49m\n",
      "File \u001b[1;32m~\\AppData\\Local\\Packages\\PythonSoftwareFoundation.Python.3.12_qbz5n2kfra8p0\\LocalCache\\local-packages\\Python312\\site-packages\\firebase_admin\\db.py:152\u001b[0m, in \u001b[0;36mReference.__init__\u001b[1;34m(self, **kwargs)\u001b[0m\n\u001b[0;32m    150\u001b[0m     \u001b[38;5;28mself\u001b[39m\u001b[38;5;241m.\u001b[39m_segments \u001b[38;5;241m=\u001b[39m kwargs\u001b[38;5;241m.\u001b[39mget(\u001b[38;5;124m'\u001b[39m\u001b[38;5;124msegments\u001b[39m\u001b[38;5;124m'\u001b[39m)\n\u001b[0;32m    151\u001b[0m \u001b[38;5;28;01melse\u001b[39;00m:\n\u001b[1;32m--> 152\u001b[0m     \u001b[38;5;28mself\u001b[39m\u001b[38;5;241m.\u001b[39m_segments \u001b[38;5;241m=\u001b[39m \u001b[43m_parse_path\u001b[49m\u001b[43m(\u001b[49m\u001b[43mkwargs\u001b[49m\u001b[38;5;241;43m.\u001b[39;49m\u001b[43mget\u001b[49m\u001b[43m(\u001b[49m\u001b[38;5;124;43m'\u001b[39;49m\u001b[38;5;124;43mpath\u001b[39;49m\u001b[38;5;124;43m'\u001b[39;49m\u001b[43m)\u001b[49m\u001b[43m)\u001b[49m\n\u001b[0;32m    153\u001b[0m \u001b[38;5;28mself\u001b[39m\u001b[38;5;241m.\u001b[39m_pathurl \u001b[38;5;241m=\u001b[39m \u001b[38;5;124m'\u001b[39m\u001b[38;5;124m/\u001b[39m\u001b[38;5;124m'\u001b[39m \u001b[38;5;241m+\u001b[39m \u001b[38;5;124m'\u001b[39m\u001b[38;5;124m/\u001b[39m\u001b[38;5;124m'\u001b[39m\u001b[38;5;241m.\u001b[39mjoin(\u001b[38;5;28mself\u001b[39m\u001b[38;5;241m.\u001b[39m_segments)\n",
      "File \u001b[1;32m~\\AppData\\Local\\Packages\\PythonSoftwareFoundation.Python.3.12_qbz5n2kfra8p0\\LocalCache\\local-packages\\Python312\\site-packages\\firebase_admin\\db.py:77\u001b[0m, in \u001b[0;36m_parse_path\u001b[1;34m(path)\u001b[0m\n\u001b[0;32m     75\u001b[0m     \u001b[38;5;28;01mraise\u001b[39;00m \u001b[38;5;167;01mValueError\u001b[39;00m(\u001b[38;5;124m'\u001b[39m\u001b[38;5;124mInvalid path: \u001b[39m\u001b[38;5;124m\"\u001b[39m\u001b[38;5;132;01m{0}\u001b[39;00m\u001b[38;5;124m\"\u001b[39m\u001b[38;5;124m. Path must be a string.\u001b[39m\u001b[38;5;124m'\u001b[39m\u001b[38;5;241m.\u001b[39mformat(path))\n\u001b[0;32m     76\u001b[0m \u001b[38;5;28;01mif\u001b[39;00m \u001b[38;5;28many\u001b[39m(ch \u001b[38;5;129;01min\u001b[39;00m path \u001b[38;5;28;01mfor\u001b[39;00m ch \u001b[38;5;129;01min\u001b[39;00m _INVALID_PATH_CHARACTERS):\n\u001b[1;32m---> 77\u001b[0m     \u001b[38;5;28;01mraise\u001b[39;00m \u001b[38;5;167;01mValueError\u001b[39;00m(\n\u001b[0;32m     78\u001b[0m         \u001b[38;5;124m'\u001b[39m\u001b[38;5;124mInvalid path: \u001b[39m\u001b[38;5;124m\"\u001b[39m\u001b[38;5;132;01m{0}\u001b[39;00m\u001b[38;5;124m\"\u001b[39m\u001b[38;5;124m. Path contains illegal characters.\u001b[39m\u001b[38;5;124m'\u001b[39m\u001b[38;5;241m.\u001b[39mformat(path))\n\u001b[0;32m     79\u001b[0m \u001b[38;5;28;01mreturn\u001b[39;00m [seg \u001b[38;5;28;01mfor\u001b[39;00m seg \u001b[38;5;129;01min\u001b[39;00m path\u001b[38;5;241m.\u001b[39msplit(\u001b[38;5;124m'\u001b[39m\u001b[38;5;124m/\u001b[39m\u001b[38;5;124m'\u001b[39m) \u001b[38;5;28;01mif\u001b[39;00m seg]\n",
      "\u001b[1;31mValueError\u001b[0m: Invalid path: \"https://console.firebase.google.com/u/0/project/atllightingdesign/database/atllightingdesign-default-rtdb/data/~2F/\". Path contains illegal characters."
     ]
    }
   ],
   "source": [
    "ref = db.reference(\"\")\n",
    "data = ref.get()\n",
    "\n",
    "print(data)\n",
    "with open(\"../public/atl.json\",\"w\") as outfile:\n",
    "    json.dump(data, outfile)"
   ]
  }
 ],
 "metadata": {
  "kernelspec": {
   "display_name": "Python 3",
   "language": "python",
   "name": "python3"
  },
  "language_info": {
   "codemirror_mode": {
    "name": "ipython",
    "version": 3
   },
   "file_extension": ".py",
   "mimetype": "text/x-python",
   "name": "python",
   "nbconvert_exporter": "python",
   "pygments_lexer": "ipython3",
   "version": "3.12.7"
  }
 },
 "nbformat": 4,
 "nbformat_minor": 2
}
