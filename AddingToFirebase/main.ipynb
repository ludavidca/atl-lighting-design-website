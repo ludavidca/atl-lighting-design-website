{
 "cells": [
  {
   "cell_type": "code",
   "execution_count": 3,
   "metadata": {},
   "outputs": [
    {
     "data": {
      "text/plain": [
       "<firebase_admin.App at 0x2711baab530>"
      ]
     },
     "execution_count": 3,
     "metadata": {},
     "output_type": "execute_result"
    }
   ],
   "source": [
    "import os\n",
    "import firebase_admin\n",
    "from firebase_admin import credentials, db, storage\n",
    "\n",
    "# Initialize Firebase app (you'll need to replace 'path/to/serviceAccountKey.json' with your actual service account key file)\n",
    "cred = credentials.Certificate('C:/Users/david/Desktop/Important docs/atllightingdesign-firebase-adminsdk-nkqyi-10da279d19.json')\n",
    "firebase_admin.initialize_app(cred, {\n",
    "    'databaseURL': 'https://atllightingdesign-default-rtdb.firebaseio.com/',\n",
    "    'storageBucket': 'atllightingdesign.appspot.com'\n",
    "})"
   ]
  },
  {
   "cell_type": "code",
   "execution_count": 3,
   "metadata": {},
   "outputs": [
    {
     "name": "stdout",
     "output_type": "stream",
     "text": [
      "Deleted: ProjectImages\\Guanyin_01-1000x666.jpg\n",
      "Deleted: ProjectImages\\Guanyin_03-1000x667.jpg\n",
      "Deleted: ProjectImages\\Guanyin_04-1000x667.jpg\n",
      "Deleted: ProjectImages\\Guanyin_05-1000x563.jpg\n",
      "Deleted: ProjectImages\\Guanyin_07-1000x563.jpg\n",
      "Deleted: ProjectImages\\Guanyin_09-1000x667.jpg\n",
      "Deleted: ProjectImages\\Guanyin_10-1000x613.jpg\n",
      "Deleted: ProjectImages\\Guanyin_11-1000x667.jpg\n",
      "Deleted: ProjectImages\\Guanyin_12-1000x667.jpg\n",
      "Project uploaded successfully and local images deleted!\n"
     ]
    }
   ],
   "source": [
    "import os\n",
    "\n",
    "def get_user_input():\n",
    "    title = \"Guanyin Altar\"\n",
    "    time = 2024\n",
    "    location = \"ZhouShan City, China\"\n",
    "    category = \"arts-and-culture\"\n",
    "    description = open(\"description.txt\", \"r\", encoding=\"utf8\").read()\n",
    "    \n",
    "    return title, time, category, location, description\n",
    "\n",
    "def upload_images_to_storage(title):\n",
    "    bucket = storage.bucket()\n",
    "    image_urls = []\n",
    "    image_paths = []\n",
    "    \n",
    "    for i, filename in enumerate(os.listdir(\"C:/Users/david/Desktop/Ongoing Projects/atlwebsite/AddingToFirebase/ProjectImages\")):\n",
    "        if filename.lower().endswith(('.png', '.jpg', '.jpeg', '.gif')):\n",
    "            file_path = os.path.join(\"ProjectImages\", filename)\n",
    "            new_filename = f\"{title.lower().replace(' ', '-')}-{i+1}{os.path.splitext(filename)[1]}\"\n",
    "            blob = bucket.blob(f\"projects/{new_filename}\")\n",
    "            blob.upload_from_filename(file_path)\n",
    "            blob.make_public()\n",
    "            image_urls.append(blob.public_url)\n",
    "            image_paths.append(file_path)\n",
    "    \n",
    "    return image_urls, image_paths\n",
    "\n",
    "def insert_data_to_database(category, title, image_urls, time, location, description):\n",
    "    ref = db.reference('projects')\n",
    "    project_data = {\n",
    "        \"images\": image_urls,\n",
    "        \"time\": time,\n",
    "        \"location\": location,\n",
    "        \"description\": description\n",
    "    }\n",
    "    ref.child(category).child(title.lower().replace(' ', '-')).set(project_data)\n",
    "\n",
    "def delete_local_images(image_paths):\n",
    "    for path in image_paths:\n",
    "        try:\n",
    "            os.remove(path)\n",
    "            print(f\"Deleted: {path}\")\n",
    "        except Exception as e:\n",
    "            print(f\"Error deleting {path}: {str(e)}\")\n",
    "\n",
    "title, time, category, location, description = get_user_input()\n",
    "image_urls, image_paths = upload_images_to_storage(title)\n",
    "insert_data_to_database(category, title, image_urls, time, location, description)\n",
    "delete_local_images(image_paths)\n",
    "print(\"Project uploaded successfully and local images deleted!\")"
   ]
  },
  {
   "cell_type": "code",
   "execution_count": 24,
   "metadata": {},
   "outputs": [
    {
     "name": "stdout",
     "output_type": "stream",
     "text": [
      "Deleted: ProjectImages\\LS-2.jpg\n",
      "Award uploaded successfully and local images deleted!\n"
     ]
    }
   ],
   "source": [
    "#upload awards\n",
    "\n",
    "import os\n",
    "\n",
    "categories= ['arts-and-culture','city-and-landscape', 'commercial', 'hospitality']\n",
    "\n",
    "def get_user_input():\n",
    "    title = \"Lingshan Buddhist Palace\"\n",
    "    awards= [\"1st Prize of Indoor Lighting Design- CIES 2009\"]\n",
    "    category = categories[1]\n",
    "    lowercasetitle= title.replace(\" \",\"-\").lower()\n",
    "    image= f\"/{category}/{lowercasetitle}\"\n",
    "\n",
    "    return title, awards, category, image\n",
    "\n",
    "def upload_images_to_storage(title):\n",
    "    bucket = storage.bucket()\n",
    "    image_urls = \"\"\n",
    "    image_paths = []\n",
    "    \n",
    "    for i, filename in enumerate(os.listdir(\"C:/Users/david/Desktop/Ongoing Projects/atlwebsite/AddingToFirebase/ProjectImages\")):\n",
    "        if filename.lower().endswith(('.png', '.jpg', '.jpeg', '.gif')):\n",
    "            file_path = os.path.join(\"ProjectImages\", filename)\n",
    "            new_filename = f\"{title.lower().replace(' ', '-')}-{i+1}{os.path.splitext(filename)[1]}\"\n",
    "            blob = bucket.blob(f\"awards/{new_filename}\")\n",
    "            blob.upload_from_filename(file_path)\n",
    "            blob.make_public()\n",
    "            image_urls = blob.public_url\n",
    "            image_paths.append(file_path)\n",
    "    \n",
    "    return image_urls, image_paths\n",
    "\n",
    "def insert_data_to_database(title, awards, category, image):\n",
    "    ref = db.reference('awards')\n",
    "    project_data = {\n",
    "        \"awards\": awards,\n",
    "        \"image\": image\n",
    "    }\n",
    "    ref.child(title.lower().replace(' ', '-')).set(project_data)\n",
    "\n",
    "def delete_local_images(image_paths):\n",
    "    for path in image_paths:\n",
    "        try:\n",
    "            os.remove(path)\n",
    "            print(f\"Deleted: {path}\")\n",
    "        except Exception as e:\n",
    "            print(f\"Error deleting {path}: {str(e)}\")\n",
    "\n",
    "title, awards, category, image = get_user_input()\n",
    "image_urls, image_paths = upload_images_to_storage(title)\n",
    "insert_data_to_database(title, awards, category, image_urls)\n",
    "delete_local_images(image_paths)\n",
    "print(\"Award uploaded successfully and local images deleted!\")"
   ]
  },
  {
   "cell_type": "code",
   "execution_count": null,
   "metadata": {},
   "outputs": [],
   "source": []
  }
 ],
 "metadata": {
  "kernelspec": {
   "display_name": "Python 3",
   "language": "python",
   "name": "python3"
  },
  "language_info": {
   "codemirror_mode": {
    "name": "ipython",
    "version": 3
   },
   "file_extension": ".py",
   "mimetype": "text/x-python",
   "name": "python",
   "nbconvert_exporter": "python",
   "pygments_lexer": "ipython3",
   "version": "3.12.7"
  }
 },
 "nbformat": 4,
 "nbformat_minor": 2
}
